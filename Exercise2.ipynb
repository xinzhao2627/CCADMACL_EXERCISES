{
 "cells": [
  {
   "cell_type": "markdown",
   "metadata": {
    "colab_type": "text",
    "id": "view-in-github"
   },
   "source": [
    "<a href=\"https://colab.research.google.com/github/robitussin/CCADMACL_EXERCISES/blob/main/Exercise2.ipynb\" target=\"_parent\"><img src=\"https://colab.research.google.com/assets/colab-badge.svg\" alt=\"Open In Colab\"/></a>"
   ]
  },
  {
   "cell_type": "markdown",
   "metadata": {
    "id": "99_2rPCJrNfK"
   },
   "source": [
    "## Exercise 2: Use Gradient Boost for Regression\n",
    "\n",
    "Instructions:\n",
    "\n",
    "- Use the Dataset File to train your model\n",
    "- Use the Test File to generate your results\n",
    "- Use the Sample Submission file to generate the same format\n",
    "Submit your results to:\n",
    "https://www.kaggle.com/competitions/playground-series-s4e12/overview\n",
    "\n"
   ]
  },
  {
   "cell_type": "code",
   "execution_count": 84,
   "metadata": {
    "id": "R_se3V8gftVL"
   },
   "outputs": [],
   "source": [
    "import pandas as pd\n",
    "import seaborn as sns\n",
    "from sklearn.impute import SimpleImputer\n",
    "import numpy as np\n",
    "from matplotlib import pyplot as plt\n",
    "from sklearn.ensemble import GradientBoostingRegressor\n",
    "from sklearn.model_selection import train_test_split\n",
    "from sklearn.pipeline import Pipeline\n",
    "from sklearn.preprocessing import OneHotEncoder, StandardScaler\n",
    "from sklearn.compose import ColumnTransformer\n",
    "from sklearn.ensemble import GradientBoostingClassifier\n",
    "from sklearn.metrics import classification_report\n",
    "from sklearn.model_selection import cross_val_score, train_test_split\n",
    "import xgboost as xgb"
   ]
  },
  {
   "cell_type": "markdown",
   "metadata": {
    "id": "eCNNEXIhftVN"
   },
   "source": [
    "## Dataset\n",
    "Train, test and sample submission file can be found in this link\n",
    "https://www.kaggle.com/competitions/playground-series-s4e12/data"
   ]
  },
  {
   "cell_type": "markdown",
   "metadata": {
    "id": "rjhN8ODcVYxH"
   },
   "source": [
    "## 1. Load the Data"
   ]
  },
  {
   "cell_type": "code",
   "execution_count": 101,
   "metadata": {
    "id": "tEcU-yJmVZwR"
   },
   "outputs": [],
   "source": [
    "# put your answer here\n",
    "df = pd.read_csv('./exec2/train.csv')\n",
    "X = df.drop(['id', 'Premium Amount'], axis=1)\n",
    "y = df['Premium Amount']"
   ]
  },
  {
   "cell_type": "markdown",
   "metadata": {
    "id": "GlMLKDF_rvUM"
   },
   "source": [
    "## 2. Perform Data preprocessing"
   ]
  },
  {
   "cell_type": "code",
   "execution_count": 102,
   "metadata": {
    "id": "0MJX8VBysFxR"
   },
   "outputs": [],
   "source": [
    "# put your answer here\n",
    "cat_feat = X.select_dtypes(\n",
    "    include=[\"object\"]\n",
    ").columns.tolist()\n",
    "\n",
    "num_feat = X.select_dtypes(\n",
    "    include=[\"float64\", \"int64\"]\n",
    ").columns.tolist()\n",
    "# for col in cat_feat:\n",
    "#    X[col] = X[col].astype('category')\n"
   ]
  },
  {
   "cell_type": "code",
   "execution_count": 103,
   "metadata": {},
   "outputs": [],
   "source": [
    "X_train, X_test, y_train, y_test = train_test_split(\n",
    "   X, y, test_size=0.99, random_state=42\n",
    ")\n",
    "# dtrain_reg = xgb.DMatrix(X_train, y_train, enable_categorical=True)\n",
    "# dtest_reg = xgb.DMatrix(X_test, y_test, enable_categorical=True)"
   ]
  },
  {
   "cell_type": "code",
   "execution_count": 104,
   "metadata": {},
   "outputs": [],
   "source": [
    "# params = {\"objective\": \"reg:squarederror\", \"tree_method\": \"gpu_hist\"}\n",
    "# n = 100\n",
    "# model = xgb.train(\n",
    "#    params=params,\n",
    "#    dtrain=dtrain_reg,\n",
    "#    num_boost_round=n,\n",
    "# )\n",
    "\n",
    "params = {\n",
    "    \"n_estimators\": 500,\n",
    "    \"max_depth\": 4,\n",
    "    \"min_samples_split\": 5,\n",
    "    \"learning_rate\": 0.01,\n",
    "}"
   ]
  },
  {
   "cell_type": "markdown",
   "metadata": {
    "id": "u-z7RFsxWLHM"
   },
   "source": [
    "## 3. Create a Pipeline"
   ]
  },
  {
   "cell_type": "code",
   "execution_count": 105,
   "metadata": {
    "id": "PuJFYWuSWNvB"
   },
   "outputs": [],
   "source": [
    "# put your answer here\n",
    "# Preprocessing for categorical data\n",
    "\n",
    "# numerical_transformer = StandardScaler()\n",
    "\n",
    "\n",
    "numerical_transformer = SimpleImputer(strategy='mean', missing_values=np.nan)\n",
    "\n",
    "categorical_transformer = Pipeline([\n",
    "    ('imputer', SimpleImputer(strategy='most_frequent')),\n",
    "    ('onehot', OneHotEncoder(handle_unknown='ignore')),\n",
    "    \n",
    "])\n",
    "\n",
    "# Bundle preprocessing for numerical and categorical data\n",
    "preprocessor = ColumnTransformer(\n",
    "    transformers=[\n",
    "        ('num', numerical_transformer, num_feat),\n",
    "        ('cat', categorical_transformer, cat_feat)\n",
    "    ]\n",
    ")\n",
    "pipeline = Pipeline([\n",
    "    ('preprocessor', preprocessor),\n",
    "    (\"regressor\", GradientBoostingRegressor(**params)),\n",
    "])\n",
    "\n"
   ]
  },
  {
   "cell_type": "markdown",
   "metadata": {
    "id": "8n-ScOLqze60"
   },
   "source": [
    "## 4. Train the Model"
   ]
  },
  {
   "cell_type": "code",
   "execution_count": 106,
   "metadata": {
    "id": "fqLNJkoHzfL4"
   },
   "outputs": [],
   "source": [
    "# put your answer here\n",
    "\n",
    "\n",
    "\n",
    "cv_scores = cross_val_score(pipeline, X_train, y_train, cv=5)\n",
    "\n"
   ]
  },
  {
   "cell_type": "code",
   "execution_count": 111,
   "metadata": {},
   "outputs": [],
   "source": [
    "from sklearn.metrics import root_mean_squared_log_error\n",
    "\n",
    "pipeline.fit(X_train, y_train)\n",
    "y_predt = pipeline.predict(X_test)\n",
    "report = root_mean_squared_log_error(y_test, y_predt)"
   ]
  },
  {
   "cell_type": "code",
   "execution_count": 108,
   "metadata": {},
   "outputs": [
    {
     "data": {
      "text/plain": [
       "1.1657945358691562"
      ]
     },
     "execution_count": 108,
     "metadata": {},
     "output_type": "execute_result"
    }
   ],
   "source": [
    "report"
   ]
  },
  {
   "cell_type": "markdown",
   "metadata": {
    "id": "IkAsAi29WiDq"
   },
   "source": [
    "## 5. Evaluate the Model"
   ]
  },
  {
   "cell_type": "code",
   "execution_count": 114,
   "metadata": {
    "id": "8L0zJYBfWiVX"
   },
   "outputs": [
    {
     "name": "stdout",
     "output_type": "stream",
     "text": [
      "Mean Cross-Validation Accuracy: 0.0067\n",
      "\n",
      "Classification Report:\n",
      "1.1657945358689021\n"
     ]
    },
    {
     "data": {
      "text/plain": [
       "array([1113.39794792, 1113.39794792, 1119.93338645, ..., 1120.95491271,\n",
       "       1063.24825928, 1120.95491271])"
      ]
     },
     "execution_count": 114,
     "metadata": {},
     "output_type": "execute_result"
    }
   ],
   "source": [
    "# put your answer here\n",
    "\n",
    "print(f\"Mean Cross-Validation Accuracy: {cv_scores.mean():.4f}\")\n",
    "print(\"\\nClassification Report:\")\n",
    "print(report)\n",
    "y_predt"
   ]
  },
  {
   "cell_type": "markdown",
   "metadata": {
    "id": "a6UAAMyepmHi"
   },
   "source": [
    "## Generate Submission File\n",
    "\n",
    "Choose the model that has the best performance to generate a submission file."
   ]
  },
  {
   "cell_type": "code",
   "execution_count": null,
   "metadata": {
    "id": "HrelEEFJpjzI"
   },
   "outputs": [
    {
     "name": "stdout",
     "output_type": "stream",
     "text": [
      "Submission file created: submission_file.csv\n"
     ]
    }
   ],
   "source": [
    "sf = pd.read_csv('./exec2/sample_submission.csv')\n",
    "dt = pd.read_csv('./exec2/test.csv')\n",
    "id = sf.pop('id')\n",
    "y_pred = pipeline.predict(dt)\n",
    "\n",
    "# Create a submission DataFrame\n",
    "submission_df = pd.DataFrame({\n",
    "    'id': id,\n",
    "    'Premium Amount': y_pred\n",
    "})\n",
    "\n",
    "# Save the submission DataFrame to a CSV file\n",
    "submission_df.to_csv('submission_file_ex2.csv', index=False)\n",
    "print(\"Submission file created: submission_file.csv\")"
   ]
  },
  {
   "cell_type": "code",
   "execution_count": 118,
   "metadata": {},
   "outputs": [
    {
     "data": {
      "text/plain": [
       "0         1102.545\n",
       "1         1102.545\n",
       "2         1102.545\n",
       "3         1102.545\n",
       "4         1102.545\n",
       "            ...   \n",
       "799995    1102.545\n",
       "799996    1102.545\n",
       "799997    1102.545\n",
       "799998    1102.545\n",
       "799999    1102.545\n",
       "Name: Premium Amount, Length: 800000, dtype: float64"
      ]
     },
     "execution_count": 118,
     "metadata": {},
     "output_type": "execute_result"
    }
   ],
   "source": [
    "id"
   ]
  }
 ],
 "metadata": {
  "colab": {
   "include_colab_link": true,
   "provenance": []
  },
  "kernelspec": {
   "display_name": "mainenv",
   "language": "python",
   "name": "python3"
  },
  "language_info": {
   "codemirror_mode": {
    "name": "ipython",
    "version": 3
   },
   "file_extension": ".py",
   "mimetype": "text/x-python",
   "name": "python",
   "nbconvert_exporter": "python",
   "pygments_lexer": "ipython3",
   "version": "3.12.7"
  }
 },
 "nbformat": 4,
 "nbformat_minor": 0
}
