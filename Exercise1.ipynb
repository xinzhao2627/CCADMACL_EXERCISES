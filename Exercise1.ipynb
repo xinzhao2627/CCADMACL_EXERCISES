{
 "cells": [
  {
   "cell_type": "markdown",
   "metadata": {
    "colab_type": "text",
    "id": "view-in-github"
   },
   "source": [
    "<a href=\"https://colab.research.google.com/github/robitussin/CCADMACL_EXERCISES/blob/main/Exercise1.ipynb\" target=\"_parent\"><img src=\"https://colab.research.google.com/assets/colab-badge.svg\" alt=\"Open In Colab\"/></a>"
   ]
  },
  {
   "cell_type": "markdown",
   "metadata": {
    "id": "wyguhJBCREPq"
   },
   "source": [
    "# Exercise 1\n",
    "\n",
    "Use all feature selection methods to find the best features"
   ]
  },
  {
   "cell_type": "markdown",
   "metadata": {
    "id": "W1nEzxdXQbpH"
   },
   "source": [
    "## Dataset Information\n",
    "\n",
    "## Features\n",
    "\n",
    "Number of Instances: 20640\n",
    "\n",
    "Number of Attributes: 8 numeric, predictive attributes and the target\n",
    "\n",
    "Attribute Information:\n",
    "\n",
    "MedInc - median income in block group\n",
    "\n",
    "HouseAge - median house age in block group\n",
    "\n",
    "AveRooms - average number of rooms per household\n",
    "\n",
    "AveBedrms - average number of bedrooms per household\n",
    "\n",
    "Population - block group population\n",
    "\n",
    "AveOccup - average number of household members\n",
    "\n",
    "Latitude - block group latitude\n",
    "\n",
    "Longitude - block group longitude\n",
    "\n",
    "## Target\n",
    "The target variable is the median house value for California districts, expressed in hundreds of thousands of dollars ($100,000)."
   ]
  },
  {
   "cell_type": "code",
   "execution_count": 64,
   "metadata": {
    "id": "ZAVjjtJ9PVED"
   },
   "outputs": [],
   "source": [
    "from sklearn.datasets import fetch_california_housing\n",
    "import pandas as pd\n",
    "from sklearn.tree import DecisionTreeRegressor\n",
    "from sklearn.model_selection import train_test_split\n",
    "\n",
    "\n"
   ]
  },
  {
   "cell_type": "code",
   "execution_count": 46,
   "metadata": {
    "id": "N12mwL2GPX48"
   },
   "outputs": [],
   "source": [
    "housing = fetch_california_housing(as_frame=True)\n",
    "df = pd.concat([housing.data, housing.target], axis=1)\n",
    "df_target = housing.target\n",
    "df_features = housing.data"
   ]
  },
  {
   "cell_type": "markdown",
   "metadata": {
    "id": "6tqvZqTtRgRe"
   },
   "source": [
    "1. Use any filter method to select the best features"
   ]
  },
  {
   "cell_type": "code",
   "execution_count": 96,
   "metadata": {
    "id": "K5DB6f6jRmUF"
   },
   "outputs": [
    {
     "name": "stdout",
     "output_type": "stream",
     "text": [
      "Filtered Method\n",
      "Filtered:  Index(['HouseAge', 'AveRooms', 'Population', 'AveOccup'], dtype='object')\n",
      "\n",
      "Original:  Index(['MedInc', 'HouseAge', 'AveRooms', 'AveBedrms', 'Population', 'AveOccup',\n",
      "       'Latitude', 'Longitude', 'MedHouseVal'],\n",
      "      dtype='object')\n"
     ]
    }
   ],
   "source": [
    "# put your answer here\n",
    "from sklearn.feature_selection import VarianceThreshold\n",
    "threshold = 5\n",
    "sl = VarianceThreshold(threshold=threshold)\n",
    "s = sl.fit(df)\n",
    "\n",
    "res = df.iloc[:, s.get_support()]\n",
    "print(\"Filtered Method\")\n",
    "print(\"Filtered: \",res.columns)\n",
    "print()\n",
    "print(\"Original: \",df.columns)\n",
    "\n",
    "tree1 = DecisionTreeRegressor(random_state=0)\n",
    "\n",
    "X = df[res.columns]\n",
    "y = housing.target\n",
    "X_train, X_test1, y_train, y_test1 = train_test_split(X, y,  random_state=1)\n",
    "\n",
    "tree1.fit(X_train, y_train)\n",
    "y_pred1 = tree1.predict(X_test1)\n",
    "\n"
   ]
  },
  {
   "cell_type": "markdown",
   "metadata": {
    "id": "eZ5kAdM7RpDD"
   },
   "source": [
    "2. Use any wrapper method to select the best features"
   ]
  },
  {
   "cell_type": "code",
   "execution_count": 98,
   "metadata": {
    "id": "h1godUPeRpTF"
   },
   "outputs": [
    {
     "name": "stdout",
     "output_type": "stream",
     "text": [
      "Wrapper Method\n",
      "Wrapper:  Index(['MedInc', 'HouseAge', 'AveRooms', 'AveOccup', 'Latitude'], dtype='object')\n",
      "\n",
      "Original:  Index(['MedInc', 'HouseAge', 'AveRooms', 'AveBedrms', 'Population', 'AveOccup',\n",
      "       'Latitude', 'Longitude', 'MedHouseVal'],\n",
      "      dtype='object')\n"
     ]
    }
   ],
   "source": [
    "# put your answer here\n",
    "from sklearn.ensemble import RandomForestRegressor\n",
    "from sklearn.feature_selection import RFE\n",
    "\n",
    "threshold = 5\n",
    "rfr =RandomForestRegressor(n_estimators=200, random_state=0, max_depth=3)\n",
    "sl = RFE(rfr, n_features_to_select=threshold, step=1 )\n",
    "\n",
    "sl = sl.fit(df_features, df_target.values.ravel())\n",
    "index = sl.get_support()\n",
    "res = df_features.iloc[:, index]\n",
    "print(\"Wrapper Method\")\n",
    "print(\"Wrapper: \",res.columns)\n",
    "print()\n",
    "print(\"Original: \",df.columns)\n",
    "\n",
    "tree2 = DecisionTreeRegressor(random_state=0)\n",
    "\n",
    "X = df[res.columns]\n",
    "y = housing.target\n",
    "X_train, X_test2, y_train, y_test2 = train_test_split(X, y,  random_state=1)\n",
    "\n",
    "tree2.fit(X_train, y_train)\n",
    "y_pred2 = tree2.predict(X_test2)\n"
   ]
  },
  {
   "cell_type": "markdown",
   "metadata": {
    "id": "Kq82AZxvRvTe"
   },
   "source": [
    "3. Use any embedded methood to select the best features"
   ]
  },
  {
   "cell_type": "code",
   "execution_count": 106,
   "metadata": {
    "id": "-S8OQahTRyTM"
   },
   "outputs": [
    {
     "name": "stdout",
     "output_type": "stream",
     "text": [
      "Embedded Method\n",
      "Embedded:  Index(['MedInc', 'AveOccup'], dtype='object')\n",
      "\n",
      "Original:  Index(['MedInc', 'HouseAge', 'AveRooms', 'AveBedrms', 'Population', 'AveOccup',\n",
      "       'Latitude', 'Longitude', 'MedHouseVal'],\n",
      "      dtype='object')\n"
     ]
    }
   ],
   "source": [
    "# put your answer here\n",
    "from sklearn.feature_selection import SelectFromModel\n",
    "X_train, X_test3, y_train, y_tes3 = train_test_split(X, y,  random_state=1)\n",
    "rfr = RandomForestRegressor(n_estimators=500, random_state=0, max_depth=3)\n",
    "\n",
    "mrf = rfr.fit(X_train, y_train)\n",
    "\n",
    "sfm = SelectFromModel(mrf, prefit=True)\n",
    "index = sfm.get_support()\n",
    "\n",
    "res = df_features.iloc[:, index]\n",
    "\n",
    "X = df[res.columns]\n",
    "y = housing.target\n",
    "print(\"Embedded Method\")\n",
    "print(\"Embedded: \",res.columns)\n",
    "print()\n",
    "print(\"Original: \",df.columns)\n",
    "y_pred3 = mrf.predict(X_test3)\n",
    "\n"
   ]
  },
  {
   "cell_type": "code",
   "execution_count": 107,
   "metadata": {},
   "outputs": [
    {
     "name": "stdout",
     "output_type": "stream",
     "text": [
      "RMSE: \n",
      "Default Method:  0.7388441108252426\n",
      "Filtered Method Variance Threshold:  1.3088702515934785\n",
      "Wrapper Method:  0.832817543080276\n",
      "Embedded Method:  0.765456706533764\n"
     ]
    }
   ],
   "source": [
    "from sklearn.metrics import root_mean_squared_error as rmse\n",
    "\n",
    "treed = DecisionTreeRegressor(random_state=0)\n",
    "X = housing.data\n",
    "y = housing.target\n",
    "X_train, X_testd, y_train, y_testd = train_test_split(X, y,  random_state=1)\n",
    "treed.fit(X_train, y_train)\n",
    "y_predd = treed.predict(X_testd)\n",
    "print(\"RMSE: \")\n",
    "print(\"Default Method: \", rmse(y_testd, y_predd))\n",
    "print(\"Filtered Method Variance Threshold: \",rmse(y_test1, y_pred1))\n",
    "print(\"Wrapper Method: \", rmse(y_test2, y_pred2))\n",
    "print(\"Embedded Method: \",rmse(y_tes3, y_pred3))"
   ]
  }
 ],
 "metadata": {
  "colab": {
   "authorship_tag": "ABX9TyNAIM/nwV9RiHawbkzANQTV",
   "include_colab_link": true,
   "provenance": []
  },
  "kernelspec": {
   "display_name": "mainenv",
   "language": "python",
   "name": "python3"
  },
  "language_info": {
   "codemirror_mode": {
    "name": "ipython",
    "version": 3
   },
   "file_extension": ".py",
   "mimetype": "text/x-python",
   "name": "python",
   "nbconvert_exporter": "python",
   "pygments_lexer": "ipython3",
   "version": "3.12.7"
  }
 },
 "nbformat": 4,
 "nbformat_minor": 0
}
